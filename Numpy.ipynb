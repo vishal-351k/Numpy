{
  "nbformat": 4,
  "nbformat_minor": 0,
  "metadata": {
    "colab": {
      "provenance": []
    },
    "kernelspec": {
      "name": "python3",
      "display_name": "Python 3"
    },
    "language_info": {
      "name": "python"
    }
  },
  "cells": [
    {
      "cell_type": "markdown",
      "source": [
        "#**Theoretical Questions:**"
      ],
      "metadata": {
        "id": "2yuFfQvJ-E0e"
      }
    },
    {
      "cell_type": "markdown",
      "source": [
        "## **1. Explain the purpose and advantages of NumPy in scientific computing and data analysis. How does it enhance Python's capabilities for numerical operations?**\n",
        "\n",
        "\n"
      ],
      "metadata": {
        "id": "kGOiVRTaS0om"
      }
    },
    {
      "cell_type": "markdown",
      "source": [
        "NumPy is a fundamental library in Python that significantly enhances its capabilities for scientific computing and data analysis. Below is an overview of its purpose, advantages, and how it improves numerical operations in Python\n",
        "\n",
        "\n",
        "##**Purpose of NumPy**\n",
        "\n",
        "NumPy, short for Numerical Python, is primarily designed to support efficient numerical computations. It provides a powerful array object, known as ndarray, which allows for the storage and manipulation of large datasets. This capability makes it an essential tool for various scientific applications, including:\n",
        "* **Mathematical Operations:** NumPy facilitates complex mathematical operations on arrays and matrices, enabling users to perform calculations with ease.\n",
        "* **Data Analysis:** The library supports data manipulation and analysis, making it suitable for tasks in data science and machine learning.\n",
        "\n",
        "\n",
        "##**Advantages of NumPy**\n",
        "A. **performance**\n",
        "\n",
        "NumPy arrays are optimized for performance. They use contiguous memory blocks, which leads to faster data access compared to Python lists. Operations on NumPy arrays are executed at compiled C speed, making them significantly faster than equivalent operations performed using native Python constructs.\n",
        "\n",
        "B. **Memory Efficiency**\n",
        "\n",
        "NumPy arrays consume less memory than Python lists because they store elements of the same type in a contiguous block of memory. This efficiency is crucial when working with large datasets, as it reduces overhead and enhances performance\n",
        "\n",
        "\n",
        "C. **Rich Functionality**\n",
        "\n",
        "The library offers a comprehensive suite of mathematical functions (often referred to as universal functions or ufuncs) that operate element-wise on arrays. This includes functions for trigonometric calculations, statistical analysis, linear algebra, and more. Users can perform operations like addition, subtraction, multiplication, and division with simple syntax, either using operators or dedicated functions (e.g., `np.add`, `np.subtract`).\n",
        "\n",
        "D. **Broadcasting**\n",
        "\n",
        "One of NumPy's standout features is broadcasting, which allows operations on arrays of different shapes without the need for explicit looping. This feature simplifies code and enhances readability by automatically aligning the shapes of the arrays involved in operations.\n",
        "\n",
        "E. **Interoperability**\n",
        "\n",
        "NumPy integrates seamlessly with other libraries such as Pandas (for data manipulation), Matplotlib (for plotting), and SciPy (for scientific computing), making it a cornerstone of the scientific computing ecosystem in Python.\n",
        "\n",
        "F. **Advanced Indexing and Slicing**\n",
        "\n",
        "NumPy supports advanced indexing techniques that allow users to extract or manipulate subsets of data efficiently. This includes boolean indexing and multidimensional slicing, which provide powerful tools for data analysis.\n",
        "\n",
        "\n",
        "\n",
        "**Enhancements to Python's Numerical Capabilities**\n",
        "\n",
        "NumPy transforms Python into a robust environment for numerical computations by:\n",
        "* Providing a high-performance array object (`ndarray`) that can handle large datasets efficiently.\n",
        "* Enabling vectorized operations that eliminate the need for explicit loops, thus speeding up computations.\n",
        "* Offering extensive mathematical functions that simplify complex calculations.\n",
        "* Supporting advanced features like broadcasting and sophisticated indexing methods that enhance data manipulation capabilities."
      ],
      "metadata": {
        "id": "RQvtzsRsTehO"
      }
    },
    {
      "cell_type": "markdown",
      "source": [
        "##**2. Compare and contrast np.mean() and np.average() functions in NumPy. When would you use one over the other?**\n",
        "\n",
        "\n",
        "**Comparing np.mean() and np.average() in NumPy**\n",
        "\n",
        "NumPy provides two functions for calculating the average value of an array: `np.mean()` and `np.average()`. While both functions seem to serve the same purpose, there are subtle differences between them.\n",
        "\n",
        "**np.mean()**\n",
        "\n",
        "`np.mean()` is a simple function that calculates the arithmetic mean of an array. It takes an array as input and returns the mean value. The arithmetic mean is calculated by summing all the elements in the array and dividing the result by the total number of elements.\n",
        "\n",
        "**np.average()**\n",
        "\n",
        "`np.average()` is a more versatile function that calculates the weighted average of an array. It takes two optional arguments: weights and returned. The weights argument allows us to specify a weight for each element in the array, enabling weighted averaging. The returned argument determines whether to return the average value or a tuple containing the average and the sum of weights.\n",
        "\n",
        "\n",
        "**Key differences:**\n",
        "\n",
        "**Weighted Averaging:** `np.average()` supports weighted averaging, while `np.mean()` does not.\n",
        "\n",
        "**Optional Arguments:** `np.average()` has two optional arguments (weights and returned), whereas `np.mean()` has no optional arguments.\n",
        "\n",
        "**Default Behavior:** `np.mean()` always returns the arithmetic mean, whereas `np.average()` returns the weighted average if weights are provided, and the arithmetic mean otherwise.\n",
        "When to use each:\n",
        "\n",
        "**np.mean():**\n",
        "* When we need to calculate the simple arithmetic mean of an array.\n",
        "* When we don't need to consider weights or biases in the averaging process.\n",
        "\n",
        "**np.average():**\n",
        "* When we need to calculate a weighted average, such as when dealing with data data that has varying importance or reliability.\n",
        "* When we need more control over the averaging process, such as specifying weights or returning additional information."
      ],
      "metadata": {
        "id": "te1I1d6VYjr_"
      }
    },
    {
      "cell_type": "markdown",
      "source": [
        "## **3. Describe the methods for reversing a NumPy array along different axes. Provide examples for 1D and 2D arrays.**\n",
        "\n",
        "Reversing a NumPy array can be accomplished using various methods, each suitable for different scenarios. Below are the primary methods to reverse both 1D and 2D arrays, along with examples.\n",
        "\n",
        "**Methods for Reversing a NumPy Array**\n",
        "\n",
        "a. **Using Slicing**\n",
        "\n",
        "Slicing is a straightforward method to reverse an array by specifying a step of -1.\n",
        "\n",
        "Example for 1D Array\n"
      ],
      "metadata": {
        "id": "qZNz4G04vM9_"
      }
    },
    {
      "cell_type": "code",
      "source": [
        "import numpy as np\n",
        "\n",
        "arr1d = np.array([1, 2, 3, 4, 5])\n",
        "reversed1d = arr1d[::-1]\n",
        "\n",
        "print(\"Original 1D array:\", arr1d)\n",
        "print(\"Reversed 1D array:\", reversed1d)"
      ],
      "metadata": {
        "colab": {
          "base_uri": "https://localhost:8080/"
        },
        "id": "ILzbi7GH7RFd",
        "outputId": "42be57e0-5ca8-4009-8603-f8dad6ea1636"
      },
      "execution_count": null,
      "outputs": [
        {
          "output_type": "stream",
          "name": "stdout",
          "text": [
            "Original 1D array: [1 2 3 4 5]\n",
            "Reversed 1D array: [5 4 3 2 1]\n"
          ]
        }
      ]
    },
    {
      "cell_type": "markdown",
      "source": [
        "b. **Using `np.flip()`**\n",
        "\n",
        "The `np.flip()` function reverses the order of elements along the specified axis.\n",
        "\n",
        "Example for 1D Array"
      ],
      "metadata": {
        "id": "oKsAEYbM71ea"
      }
    },
    {
      "cell_type": "code",
      "source": [
        "import numpy as np\n",
        "\n",
        "arr1d = np.array([1, 2, 3, 4, 5])\n",
        "reversed1d = np.flip(arr1d)\n",
        "\n",
        "print(\"Reversed using np.flip():\", reversed1d)"
      ],
      "metadata": {
        "colab": {
          "base_uri": "https://localhost:8080/"
        },
        "id": "kdYxWMpp76VL",
        "outputId": "b92332ac-a1db-4542-a191-a4d7d5b9cdba"
      },
      "execution_count": null,
      "outputs": [
        {
          "output_type": "stream",
          "name": "stdout",
          "text": [
            "Reversed using np.flip(): [5 4 3 2 1]\n"
          ]
        }
      ]
    },
    {
      "cell_type": "markdown",
      "source": [
        "c. **Using `np.flipud()`**\n",
        "\n",
        "This function flips the array in the up-down direction. It is more relevant for multi-dimensional arrays but can be used on a single dimension as well.\n",
        "\n",
        "Example for a Single Row (2D Array)"
      ],
      "metadata": {
        "id": "OYZ00vp28QXF"
      }
    },
    {
      "cell_type": "code",
      "source": [
        "import numpy as np\n",
        "\n",
        "arr2d = np.array([[1, 2, 3, 4, 5]])\n",
        "reversedRows = np.flipud(arr2d)\n",
        "\n",
        "print(\"Reversed rows using np.flipud():\", reversedRows)"
      ],
      "metadata": {
        "colab": {
          "base_uri": "https://localhost:8080/"
        },
        "id": "A-sE4DQu8aSv",
        "outputId": "b73bd0f5-cf42-45a4-8d33-256d84611903"
      },
      "execution_count": null,
      "outputs": [
        {
          "output_type": "stream",
          "name": "stdout",
          "text": [
            "Reversed rows using np.flipud(): [[1 2 3 4 5]]\n"
          ]
        }
      ]
    },
    {
      "cell_type": "markdown",
      "source": [
        "d. **Using `np.fliplr()`**\n",
        "The `np.fliplr()` function flips the array left to right. This method is specifically for reversing columns in a multi-dimensional array.\n",
        "\n",
        "Example for a 2D Array"
      ],
      "metadata": {
        "id": "Gegla6LO85q7"
      }
    },
    {
      "cell_type": "code",
      "source": [
        "import numpy as np\n",
        "\n",
        "arr2d = np.array([[1, 2, 3],\n",
        "                   [4, 5, 6],\n",
        "                   [7, 8, 9]])\n",
        "\n",
        "reversedCols = np.fliplr(arr2d)\n",
        "\n",
        "print(\"Original array:\\n\", arr2d)\n",
        "print(\"Reversed columns:\\n\", reversedCols)"
      ],
      "metadata": {
        "colab": {
          "base_uri": "https://localhost:8080/"
        },
        "id": "3KfMoetA8mUs",
        "outputId": "ceb2dc55-c48f-476d-86af-6b93f7ef6990"
      },
      "execution_count": null,
      "outputs": [
        {
          "output_type": "stream",
          "name": "stdout",
          "text": [
            "Original array:\n",
            " [[1 2 3]\n",
            " [4 5 6]\n",
            " [7 8 9]]\n",
            "Reversed columns:\n",
            " [[3 2 1]\n",
            " [6 5 4]\n",
            " [9 8 7]]\n"
          ]
        }
      ]
    },
    {
      "cell_type": "markdown",
      "source": [
        "## **4. How can you determine the data type of elements in a NumPy array? Discuss the importance of data types in memory management and performance.**"
      ],
      "metadata": {
        "id": "P8rdwPWe9MQT"
      }
    },
    {
      "cell_type": "markdown",
      "source": [
        "To determine the data type of elements in a NumPy array, we can use the .dtype attribute of the array. This attribute returns a NumPy data type object that provides information about the type of data stored in the array, such as integer, float, or string types.\n",
        "\n",
        "**Checking the Data Type of a NumPy array:**"
      ],
      "metadata": {
        "id": "c99PDPdJ9TxN"
      }
    },
    {
      "cell_type": "code",
      "source": [
        "import numpy as np\n",
        "\n",
        "# Creating a NumPy array\n",
        "arr = np.array([1, 2, 3, 4, 5])\n",
        "\n",
        "# Checking the data type\n",
        "dataType = arr.dtype\n",
        "print(\"Data type of the array:\", dataType)"
      ],
      "metadata": {
        "colab": {
          "base_uri": "https://localhost:8080/"
        },
        "id": "n1ne47gL-C6c",
        "outputId": "6db3722b-ff76-4c6d-cb35-4b17ad6987d1"
      },
      "execution_count": null,
      "outputs": [
        {
          "output_type": "stream",
          "name": "stdout",
          "text": [
            "Data type of the array: int64\n"
          ]
        }
      ]
    },
    {
      "cell_type": "markdown",
      "source": [
        "**Importance of Data Types in Memory Management and Performance**\n",
        "a. **Memory Efficiency:**\n",
        "\n",
        "* Each data type in NumPy has a specific size in memory. For instance, int32 uses 4 bytes, while int64 uses 8 bytes. By choosing the appropriate data type for the data, we can significantly reduce memory usage. For large datasets, this can lead to substantial savings in memory consumption.\n",
        "\n",
        "b. **Performance Optimization:**\n",
        "\n",
        "* Operations on arrays are optimized based on their data types. NumPy performs computations more efficiently when all elements are of a uniform type. For example, operations on float32 arrays may be faster than those on float64 due to lower memory bandwidth requirements.\n",
        "\n",
        "* The fixed size of elements allows for better cache utilization and vectorized operations, which can lead to faster execution times compared to Python lists where elements can vary in size and type.\n",
        "\n",
        "c. **Type Safety:**\n",
        "\n",
        "* NumPy enforces that all elements in an array must be of the same type. This consistency allows for predictable behavior during computations and reduces errors that may arise from mixed types.\n",
        "\n",
        "d. **Specialized Operations:**\n",
        "\n",
        "* Different data types enable specialized mathematical operations that are tailored for specific types of data (e.g., complex numbers or boolean arrays). This capability enhances functionality beyond what is possible with standard Python lists.\n",
        "\n",
        "e. **Interoperability with Other Libraries:**\n",
        "\n",
        "* Many scientific computing libraries (like SciPy and Pandas) rely on NumPy's data types for efficient data manipulation and analysis. Understanding and managing these types is crucial when working across different libraries."
      ],
      "metadata": {
        "id": "a2FFURtD-UBE"
      }
    },
    {
      "cell_type": "markdown",
      "source": [
        "## **5. Define ndarrays in NumPy and explain their key features. How do they differ from standard Python lists?**"
      ],
      "metadata": {
        "id": "-56qpoA2_NYD"
      }
    },
    {
      "cell_type": "markdown",
      "source": [
        "NumPy's ndarray (N-dimensional array) is a core feature of the NumPy library, designed for efficient numerical computations. Here’s a detailed overview of ndarrays, their key features, and how they differ from standard Python lists.\n",
        "\n",
        "**Definition of ndarrays**\n",
        "\n",
        "An ndarray is a powerful N-dimensional array object that allows for the storage and manipulation of large datasets in a structured way. It provides a grid-like structure where elements can be accessed using multiple indices, making it suitable for various scientific and mathematical applications.\n",
        "\n",
        "**Key Features of ndarrays**\n",
        "\n",
        "a. **Homogeneous Data Types:**\n",
        "* All elements in an ndarray must be of the same data type (e.g., all integers, all floats). This uniformity allows for optimized performance and memory usage, as the system knows the size and type of each element in advance.\n",
        "\n",
        "b. **Multidimensional:**\n",
        "* ndarrays can have any number of dimensions (1D, 2D, 3D, etc.), allowing for complex data structures such as matrices and tensors. This flexibility is essential for handling various data formats in scientific computing.\n",
        "\n",
        "c. **Efficient Memory Usage:**\n",
        "* NumPy arrays are stored in contiguous memory locations, which minimizes memory overhead compared to Python lists. This organization enhances cache efficiency and speeds up operations on large datasets.\n",
        "\n",
        "d. **Vectorized Operations:**\n",
        "\n",
        "* NumPy supports element-wise operations on arrays without the need for explicit loops. This capability allows for concise and efficient mathematical computations, significantly improving performance over standard Python lists.\n",
        "\n",
        "e. **Broadcasting:**\n",
        "\n",
        "* This feature allows NumPy to perform operations on arrays of different shapes by automatically expanding the smaller array to match the larger one’s shape. Broadcasting simplifies code and enhances computational efficiency.\n",
        "\n",
        "f. **Rich Functionality:**\n",
        "* ndarrays come with a wide range of built-in mathematical functions and methods for statistical analysis, linear algebra, Fourier transforms, and more, making them versatile tools for data analysis.\n",
        "\n",
        "g. **Indexing and Slicing:**\n",
        "\n",
        "* NumPy provides advanced indexing capabilities that allow users to access or modify subsets of data efficiently. This includes boolean indexing and fancy indexing.\n",
        "\n",
        "**How do ndarrays differ from standard Python lists?**\n",
        "\n",
        "Here are some key differences:\n",
        "\n",
        "a. **Data Type:** Python lists can store elements of different data types (e.g., strings, integers, floats), while ndarrays require all elements to be of the same data type.\n",
        "\n",
        "b. **Size:** Python lists can grow or shrink dynamically, while ndarrays have a fixed size.\n",
        "\n",
        "c. **Indexing:** Python lists use 0-based indexing, while ndarrays use 0-based indexing for the first dimension and 1-based indexing for subsequent dimensions.\n",
        "\n",
        "d. **Operations** Python lists support basic operations like indexing, slicing, and concatenation, while ndarrays support more advanced operations like vectorized arithmetic, matrix multiplication, and more.\n",
        "\n",
        "e. **Memory Usage:** Python lists use more memory than ndarrays because they store references to objects, while ndarrays store the actual data in contiguous blocks of memory."
      ],
      "metadata": {
        "id": "Zk1O5IbL_ThC"
      }
    },
    {
      "cell_type": "markdown",
      "source": [
        "## **6. Analyze the performance benefits of NumPy arrays over Python lists for large-scale numerical operations.**"
      ],
      "metadata": {
        "id": "91EtwMVUCQaT"
      }
    },
    {
      "cell_type": "markdown",
      "source": [
        "When it comes to large-scale numerical operations, NumPy arrays outperform Python lists in several key aspects. Here are the main performance benefits of using NumPy arrays:\n",
        "\n",
        "a. **Memory Efficiency**\n",
        "\n",
        "* **Memory Usage:** NumPy arrays store data in a contiguous block of memory, which leads to more efficient memory usage compared to Python lists. This is because Python lists store pointers to individual objects, resulting in higher memory overhead.\n",
        "* **Memory Allocation:** NumPy arrays allocate memory only once, during initialization, whereas Python lists dynamically allocate memory for each element, leading to slower performance.\n",
        "\n",
        "b. **Computational Speed**\n",
        "\n",
        "* **Vectorized Operations:** NumPy arrays support vectorized operations, which allow for operations to be performed on entire arrays at once, rather than iterating over individual elements. This leads to significant speedups for large datasets.\n",
        "\n",
        "* **C-Based Implementation:** NumPy arrays are implemented in C, which provides a performance boost compared to Python's interpreted nature.\n",
        "\n",
        "**c. Cache Efficiency**\n",
        "\n",
        "* **Cache Locality:** NumPy arrays are designed to take advantage of cache locality, which means that the CPU can access data more quickly due to its proximity in memory.\n",
        "\n",
        "* **Strided Memory Access:** NumPy arrays use strided memory access, which allows for efficient access to elements in memory, reducing the number of cache misses.\n",
        "\n",
        "**d. Additional Benefits**\n",
        "\n",
        "* **Broadcasting:** NumPy arrays support broadcasting, which allows for operations to be performed on arrays with different shapes and sizes.\n",
        "* **Matrix Operations:** NumPy arrays provide optimized implementations of matrix operations, such as matrix multiplication, which are critical in many numerical applications.\n",
        "\n",
        "**e. When to Use NumPy Arrays**\n",
        "\n",
        "* **Large-Scale Numerical Operations:** NumPy arrays are ideal for large-scale numerical operations, such as scientific simulations, data analysis, and machine learning.\n",
        "* **Performance-Critical Applications:** NumPy arrays are suitable for applications where performance is critical, such as real-time data processing or high-performance computing.\n",
        "\n",
        "**f. When to Use Python Lists**\n",
        "\n",
        "* **Small-Scale Operations:** Python lists are sufficient for small-scale numerical operations or when memory efficiency is not a concern.\n",
        "* **Dynamic Data Structures:** Python lists are more suitable for dynamic data structures, such as stacks or queues, where elements are frequently added or removed.\n"
      ],
      "metadata": {
        "id": "wOsw51geCWez"
      }
    },
    {
      "cell_type": "markdown",
      "source": [
        "Here is an example demonstrating the memory consumption difference between NumPy arrays and Python lists:"
      ],
      "metadata": {
        "id": "KoKc_ftDegqp"
      }
    },
    {
      "cell_type": "code",
      "source": [
        "import sys\n",
        "import numpy as np\n",
        "\n",
        "S = range(1000)\n",
        "print(\"Size of each element of list in bytes: \", sys.getsizeof(S))\n",
        "print(\"Size of the whole list in bytes: \", sys.getsizeof(S) * len(S))\n",
        "\n",
        "D = np.arange(1000)\n",
        "print(\"Size of each element of the Numpy array in bytes: \", D.itemsize)\n",
        "print(\"Size of the whole Numpy array in bytes: \", D.size * D.itemsize)"
      ],
      "metadata": {
        "colab": {
          "base_uri": "https://localhost:8080/"
        },
        "id": "PJtzOLlieKie",
        "outputId": "15d97696-fbd9-4e60-94e8-8671a64e6226"
      },
      "execution_count": null,
      "outputs": [
        {
          "output_type": "stream",
          "name": "stdout",
          "text": [
            "Size of each element of list in bytes:  48\n",
            "Size of the whole list in bytes:  48000\n",
            "Size of each element of the Numpy array in bytes:  8\n",
            "Size of the whole Numpy array in bytes:  8000\n"
          ]
        }
      ]
    },
    {
      "cell_type": "markdown",
      "source": [
        "The output shows that the NumPy array consumes significantly less memory than the Python list.\n",
        "\n",
        "Another example demonstrates the time difference between NumPy arrays and Python lists for multiplication operations:"
      ],
      "metadata": {
        "id": "9OGtHY_yeaWc"
      }
    },
    {
      "cell_type": "code",
      "source": [
        "import numpy as np\n",
        "import time\n",
        "\n",
        "size = 1000000\n",
        "list1 = range(size)\n",
        "list2 = range(size)\n",
        "array1 = np.arange(size)\n",
        "array2 = np.arange(size)\n",
        "\n",
        "initialTime = time.time()\n",
        "resultantList = [(a * b) for a, b in zip(list1, list2)]\n",
        "print(\"Time taken by Lists to perform multiplication: \", (time.time() - initialTime), \"seconds\")\n",
        "\n",
        "initialTime = time.time()\n",
        "resultantArray = array1 * array2\n",
        "print(\"Time taken by NumPy Arrays to perform multiplication: \", (time.time() - initialTime), \"seconds\")"
      ],
      "metadata": {
        "colab": {
          "base_uri": "https://localhost:8080/"
        },
        "id": "lrtCToquePjP",
        "outputId": "8dfd1da9-46e7-4617-faff-ebf3379f795c"
      },
      "execution_count": null,
      "outputs": [
        {
          "output_type": "stream",
          "name": "stdout",
          "text": [
            "Time taken by Lists to perform multiplication:  0.1393299102783203 seconds\n",
            "Time taken by NumPy Arrays to perform multiplication:  0.00926518440246582 seconds\n"
          ]
        }
      ]
    },
    {
      "cell_type": "markdown",
      "source": [
        "The output shows that NumPy arrays perform multiplication operations significantly faster than Python lists.\n",
        "\n",
        "In conclusion, NumPy arrays offer substantial performance benefits over Python lists for large-scale numerical operations, making them a preferred choice for scientific computing and data analysis tasks."
      ],
      "metadata": {
        "id": "wigg0M2bexJ5"
      }
    },
    {
      "cell_type": "markdown",
      "source": [
        "## **7. Compare vstack() and hstack() functions in NumPy. Provide examples demonstrating their usage and output.**"
      ],
      "metadata": {
        "id": "9OZICpX8eyvC"
      }
    },
    {
      "cell_type": "markdown",
      "source": [
        "**Comparison of `vstack()` and `hstack()` Functions in NumPy**\n",
        "\n",
        "NumPy provides several functions for stacking arrays, among which `vstack()` and `hstack()` are commonly used. These functions serve different purposes in terms of how they combine arrays.\n",
        "\n",
        "**Overview of Functions**\n",
        "\n",
        "* **`numpy.vstack()`:** Stacks arrays vertically (row-wise). It takes a sequence of arrays and combines them into a single array by adding rows.\n",
        "\n",
        "* **`numpy.hstack()`:** Stacks arrays horizontally (column-wise). It combines arrays by adding columns, effectively concatenating them along the second axis.\n",
        "\n",
        "**Syntax**\n",
        "\n",
        "* **`vstack():`**\n",
        "```\n",
        "numpy.vstack(tup)\n",
        "```\n",
        "\n",
        "* **`hstack()`:**\n",
        "```\n",
        "numpy.hstack(tup)\n",
        "```\n",
        "\n",
        "**Requirements**\n",
        "\n",
        "For both functions, the input arrays must have compatible shapes:\n",
        "\n",
        "* `vstack()` requires that all input arrays have the same number of columns.\n",
        "* `hstack()` requires that all input arrays have the same number of rows\n",
        "\n",
        "Examples\n",
        "\n",
        "Example 1: Using `vstack()`\n"
      ],
      "metadata": {
        "id": "H6W7akITfEM7"
      }
    },
    {
      "cell_type": "code",
      "source": [
        "import numpy as np\n",
        "\n",
        "# Creating two 1-D arrays\n",
        "a = np.array([1, 2, 3])\n",
        "b = np.array([4, 5, 6])\n",
        "\n",
        "# Stacking vertically\n",
        "resultV = np.vstack((a, b))\n",
        "print(resultV)"
      ],
      "metadata": {
        "colab": {
          "base_uri": "https://localhost:8080/"
        },
        "id": "4SpOJ-sphnSl",
        "outputId": "5552cad1-72f9-44f0-d74e-f92de698c5dd"
      },
      "execution_count": null,
      "outputs": [
        {
          "output_type": "stream",
          "name": "stdout",
          "text": [
            "[[1 2 3]\n",
            " [4 5 6]]\n"
          ]
        }
      ]
    },
    {
      "cell_type": "markdown",
      "source": [
        "In this example, `vstack()` combines the two 1-D arrays into a 2-D array with two rows.\n",
        "\n",
        "Example 2: Using `hstack()`"
      ],
      "metadata": {
        "id": "KBwtyjPAh0LO"
      }
    },
    {
      "cell_type": "code",
      "source": [
        "import numpy as np\n",
        "\n",
        "# Creating two 1-D arrays\n",
        "a = np.array([1, 2, 3])\n",
        "b = np.array([4, 5, 6])\n",
        "\n",
        "# Stacking horizontally\n",
        "resultH = np.hstack((a, b))\n",
        "print(resultH)"
      ],
      "metadata": {
        "colab": {
          "base_uri": "https://localhost:8080/"
        },
        "id": "7HDDED9wh8-6",
        "outputId": "55f015d6-047f-44ec-d77b-f0689489b22e"
      },
      "execution_count": null,
      "outputs": [
        {
          "output_type": "stream",
          "name": "stdout",
          "text": [
            "[1 2 3 4 5 6]\n"
          ]
        }
      ]
    },
    {
      "cell_type": "markdown",
      "source": [
        "Here, `hstack()` combines the two arrays into a single row.\n",
        "\n",
        "Example 3: Stacking Higher Dimensional Arrays\n",
        "\n",
        "`Using vstack()`"
      ],
      "metadata": {
        "id": "O10N7-rAiHzk"
      }
    },
    {
      "cell_type": "code",
      "source": [
        "import numpy as np\n",
        "\n",
        "# Creating two 2-D arrays\n",
        "a = np.array([[1, 2], [3, 4]])\n",
        "b = np.array([[5, 6], [7, 8]])\n",
        "\n",
        "# Stacking vertically\n",
        "resultV2 = np.vstack((a, b))\n",
        "print(resultV2)"
      ],
      "metadata": {
        "colab": {
          "base_uri": "https://localhost:8080/"
        },
        "id": "6Oz8umWHiOho",
        "outputId": "539dc11f-d521-4616-f5d3-863e2d2be9c5"
      },
      "execution_count": null,
      "outputs": [
        {
          "output_type": "stream",
          "name": "stdout",
          "text": [
            "[[1 2]\n",
            " [3 4]\n",
            " [5 6]\n",
            " [7 8]]\n"
          ]
        }
      ]
    },
    {
      "cell_type": "markdown",
      "source": [
        "Using `hstack()`"
      ],
      "metadata": {
        "id": "OxWPumtCiW09"
      }
    },
    {
      "cell_type": "code",
      "source": [
        "import numpy as np\n",
        "\n",
        "# Creating two compatible 2-D arrays\n",
        "a = np.array([[1, 2], [3, 4]])\n",
        "b = np.array([[5, 6], [7, 8]])\n",
        "\n",
        "# Stacking horizontally\n",
        "resultH2 = np.hstack((a, b))\n",
        "print(resultH2)"
      ],
      "metadata": {
        "colab": {
          "base_uri": "https://localhost:8080/"
        },
        "id": "f4lAM2BHiai2",
        "outputId": "0db92a34-7ab5-49a1-fb93-95088f79ac2b"
      },
      "execution_count": null,
      "outputs": [
        {
          "output_type": "stream",
          "name": "stdout",
          "text": [
            "[[1 2 5 6]\n",
            " [3 4 7 8]]\n"
          ]
        }
      ]
    },
    {
      "cell_type": "markdown",
      "source": [
        "## **8. Explain the differences between fliplr() and flipud() methods in NumPy, including their effects on various array dimensions.**\n"
      ],
      "metadata": {
        "id": "sLes-r5IipEC"
      }
    },
    {
      "cell_type": "markdown",
      "source": [
        "The `fliplr()` and `flipud()` methods in NumPy are used to flip arrays horizontally and vertically, respectively. While they may seem similar, they have distinct effects on arrays with different dimensions.\n",
        "\n",
        "`fliplr()` - Flip Left-Right\n",
        "\n",
        "The fliplr() function flips an array horizontally, i.e., it reverses the elements in each row. This means that the elements in the leftmost column become the rightmost column, and vice versa.\n",
        "\n",
        "\n",
        "###Effects on various array dimensions:\n",
        "\n",
        "* `1-D array:` fliplr() has no effect on a 1-D array, as there is only one row.\n",
        "* `2-D array:` fliplr() flips the array horizontally, reversing the columns.\n",
        "* `3-D array:` fliplr() flips each 2-D slice in the array horizontally.\n",
        "\n",
        "Let's take an example.\n",
        "\n",
        "\n"
      ],
      "metadata": {
        "id": "TXzBdzyfivBA"
      }
    },
    {
      "cell_type": "code",
      "source": [
        "import numpy as np\n",
        "\n",
        "arr = np.array([[1, 2, 3, 4], [5, 6, 7, 8]])\n",
        "print(\"Original array:\\n\", arr)\n",
        "\n",
        "flippedArr = np.fliplr(arr)\n",
        "print(\"Flipped array (horizontal):\\n\", flippedArr)"
      ],
      "metadata": {
        "colab": {
          "base_uri": "https://localhost:8080/"
        },
        "id": "oaEn7QE0q4Ro",
        "outputId": "45483288-f430-4425-920e-d454d6f1d4f7"
      },
      "execution_count": null,
      "outputs": [
        {
          "output_type": "stream",
          "name": "stdout",
          "text": [
            "Original array:\n",
            " [[1 2 3 4]\n",
            " [5 6 7 8]]\n",
            "Flipped array (horizontal):\n",
            " [[4 3 2 1]\n",
            " [8 7 6 5]]\n"
          ]
        }
      ]
    },
    {
      "cell_type": "markdown",
      "source": [
        "`flipud() - Flip Up-Down`\n",
        "\n",
        "The flipud() function flips an array vertically, i.e., it reverses the elements in each column. This means that the elements in the topmost row become the bottommost row, and vice versa\n",
        "\n",
        "\n",
        "###Effects on various array dimensions:\n",
        "\n",
        "* 1-D array: flipud() has no effect on a 1-D array, as there is only one column.\n",
        "* 2-D array: flipud() flips the array vertically, reversing the rows.\n",
        "* 3-D array: flipud() flips each 2-D slice in the array vertically.\n",
        "\n",
        "Let's take an example:"
      ],
      "metadata": {
        "id": "8u5pHCuwrpyh"
      }
    },
    {
      "cell_type": "code",
      "source": [
        "import numpy as np\n",
        "\n",
        "arr = np.array([[1, 2, 3, 4], [5, 6, 7, 8]])\n",
        "print(\"Original array:\\n\", arr)\n",
        "\n",
        "flippedArr = np.flipud(arr)\n",
        "print(\"Flipped array (vertical):\\n\", flippedArr)\n"
      ],
      "metadata": {
        "colab": {
          "base_uri": "https://localhost:8080/"
        },
        "id": "vvXzBU3vtbxo",
        "outputId": "ff058b75-1cf0-4933-e6bd-1507c37e0d54"
      },
      "execution_count": null,
      "outputs": [
        {
          "output_type": "stream",
          "name": "stdout",
          "text": [
            "Original array:\n",
            " [[1 2 3 4]\n",
            " [5 6 7 8]]\n",
            "Flipped array (vertical):\n",
            " [[5 6 7 8]\n",
            " [1 2 3 4]]\n"
          ]
        }
      ]
    },
    {
      "cell_type": "markdown",
      "source": [
        "##**9. Discuss the functionality of the array_split() method in NumPy. How does it handle uneven splits?**\n",
        "\n",
        "The `numpy.array_split()` method is a versatile function in NumPy that allows users to split an array into multiple sub-arrays. Here’s a detailed overview of its functionality, including how it handles uneven splits.\n",
        "\n",
        "Functionality:\n",
        "\n",
        "###The array_split() function takes three main arguments:\n",
        "\n",
        "* `ary`: The input array to be split.\n",
        "\n",
        "* `indices_or_sections`: The number of sections to split the array into. If an integer is provided, the array is split into equal-sized sections. If a list of indices is provided, the array is split at those specific indices.\n",
        "* `axis`: The axis along which to split the array.\n",
        "\n",
        "\n",
        "###`Handling uneven splits:`\n",
        "\n",
        "When the `indices_or_sections` argument is an integer, `array_split()` attempts to split the array into equal-sized sections. However, if the length of the array is not exactly divisible by the number of sections, the remaining elements are distributed unevenly among the sections.\n",
        "\n",
        "\n",
        "Let's take an example:\n"
      ],
      "metadata": {
        "id": "iF_j8LwtuVpc"
      }
    },
    {
      "cell_type": "code",
      "source": [
        "import numpy as np\n",
        "a = np.arange(9)  # Creates an array [0, 1, 2, 3, 4, 5, 6, 7, 8]\n",
        "result = np.array_split(a, 4)\n",
        "print(result)"
      ],
      "metadata": {
        "colab": {
          "base_uri": "https://localhost:8080/"
        },
        "id": "or3SrsWizoBy",
        "outputId": "3fe5eda0-6343-48cb-b2f2-72246e5ee39c"
      },
      "execution_count": null,
      "outputs": [
        {
          "output_type": "stream",
          "name": "stdout",
          "text": [
            "[array([0, 1, 2]), array([3, 4]), array([5, 6]), array([7, 8])]\n"
          ]
        }
      ]
    },
    {
      "cell_type": "markdown",
      "source": [
        "* Here, the original array has 9 elements and is split into 4 parts. The first three sub-arrays have three elements each, while the last one has two elements."
      ],
      "metadata": {
        "id": "v760qOOk0dhN"
      }
    },
    {
      "cell_type": "markdown",
      "source": [
        "###`Specifying indices for uneven splits:`\n",
        "\n",
        "If we need more control over the split points, we can provide a list of indices instead of an integer. This allows us to specify exactly where the array should be split.\n",
        "\n"
      ],
      "metadata": {
        "id": "Xv_Js6XZ2FRr"
      }
    },
    {
      "cell_type": "code",
      "source": [
        "import numpy as np\n",
        "\n",
        "arr = np.arange(10)\n",
        "splitArr = np.array_split(arr, [3, 7])\n",
        "\n",
        "print(\"Original array:\", arr)\n",
        "print(\"Split array:\")\n",
        "for i, sub_arr in enumerate(splitArr):\n",
        "    print(f\"Section {i+1}: {sub_arr}\")"
      ],
      "metadata": {
        "colab": {
          "base_uri": "https://localhost:8080/"
        },
        "id": "a0ow8Tw822OW",
        "outputId": "ff03666e-f314-4351-814b-32d40f7f9e99"
      },
      "execution_count": null,
      "outputs": [
        {
          "output_type": "stream",
          "name": "stdout",
          "text": [
            "Original array: [0 1 2 3 4 5 6 7 8 9]\n",
            "Split array:\n",
            "Section 1: [0 1 2]\n",
            "Section 2: [3 4 5 6]\n",
            "Section 3: [7 8 9]\n"
          ]
        }
      ]
    },
    {
      "cell_type": "markdown",
      "source": [
        "In this example, the array is split at indices 3 and 7, resulting in three sections with different sizes.\n"
      ],
      "metadata": {
        "id": "-n0iFKLB29oq"
      }
    },
    {
      "cell_type": "markdown",
      "source": [
        "##**10. Explain the concepts of vectorization and broadcasting in NumPy. How do they contribute to efficient array operations?**\n",
        "\n",
        "Vectorization and broadcasting are two fundamental concepts in NumPy that enable efficient array operations. These concepts allow NumPy to perform operations on entire arrays at once, rather than iterating over individual elements, making it a powerful tool for numerical computations.\n",
        "\n",
        "###**Vectorization**\n",
        "\n",
        "Vectorization is the process of performing operations on entire arrays at once, rather than iterating over individual elements. This is achieved through the use of universal functions (ufuncs), which are functions that operate on entire arrays. Ufuncs take advantage of the fact that many operations can be applied element-wise to entire arrays, eliminating the need for loops.\n",
        "\n",
        "In NumPy, vectorization is achieved through the use of operators and functions that operate on entire arrays. For example, when we add two arrays together, NumPy performs the operation element-wise, without the need for explicit loops.\n",
        "\n",
        "\n"
      ],
      "metadata": {
        "id": "hVwoWNUM3XYs"
      }
    },
    {
      "cell_type": "code",
      "source": [
        "import numpy as np\n",
        "\n",
        "arr1 = np.array([1, 2, 3])\n",
        "arr2 = np.array([4, 5, 6])\n",
        "\n",
        "result = arr1 + arr2\n",
        "print(result)"
      ],
      "metadata": {
        "colab": {
          "base_uri": "https://localhost:8080/"
        },
        "id": "7GqYC9f56tY3",
        "outputId": "a6a0611c-3997-4027-8d3c-7c5e6e9d4c5e"
      },
      "execution_count": null,
      "outputs": [
        {
          "output_type": "stream",
          "name": "stdout",
          "text": [
            "[5 7 9]\n"
          ]
        }
      ]
    },
    {
      "cell_type": "markdown",
      "source": [
        "In this example, the + operator is applied element-wise to the two arrays, resulting in a new array with the summed values."
      ],
      "metadata": {
        "id": "sk275wbN6-d5"
      }
    },
    {
      "cell_type": "markdown",
      "source": [
        "###**Broadcasting**\n",
        "\n",
        "Broadcasting is a mechanism that allows NumPy to perform operations on arrays with different shapes and sizes. It enables the alignment of arrays with different dimensions, allowing operations to be performed on corresponding elements.\n",
        "\n",
        "Broadcasting occurs when we perform an operation on two arrays with different shapes. NumPy aligns the arrays by adding dimensions of size 1 to the smaller array, allowing the operation to be performed element-wise.\n",
        "\n",
        "Let's take an example:"
      ],
      "metadata": {
        "id": "DVdAFT-r7Cuu"
      }
    },
    {
      "cell_type": "code",
      "source": [
        "import numpy as np\n",
        "\n",
        "arr1 = np.array([1, 2, 3])\n",
        "arr2 = np.array([[4], [5], [6]])\n",
        "\n",
        "result = arr1 + arr2\n",
        "print(result)"
      ],
      "metadata": {
        "colab": {
          "base_uri": "https://localhost:8080/"
        },
        "id": "A_wSdXFV7VER",
        "outputId": "4068f311-23ff-44ec-fdc5-65131a170330"
      },
      "execution_count": null,
      "outputs": [
        {
          "output_type": "stream",
          "name": "stdout",
          "text": [
            "[[5 6 7]\n",
            " [6 7 8]\n",
            " [7 8 9]]\n"
          ]
        }
      ]
    },
    {
      "cell_type": "markdown",
      "source": [
        "In this example, the `+` operator is applied element-wise to the two arrays, despite their different shapes. NumPy broadcasts the smaller array to match the shape of the larger array, allowing the operation to be performed.\n",
        "\n",
        "\n",
        "###**Contribution to Efficient Array Operations**\n",
        "\n",
        "Vectorization and broadcasting contribute to efficient array operations in several ways:\n",
        "\n",
        "* `Reduced Looping`: Vectorization eliminates the need for explicit loops, reducing the overhead of iterating over individual elements.\n",
        "\n",
        "* `Parallelization`: NumPy can take advantage of parallel processing capabilities, performing operations on entire arrays at once.\n",
        "\n",
        "* `Memory Efficiency`: Broadcasting allows NumPy to perform operations on arrays with different shapes, reducing the need for intermediate arrays and minimizing memory allocation.\n",
        "\n",
        "* `Improved Performance`: Vectorization and broadcasting enable NumPy to perform operations at a lower level, closer to the machine language, resulting in faster execution times."
      ],
      "metadata": {
        "id": "0nfmvPeE7cVE"
      }
    },
    {
      "cell_type": "markdown",
      "source": [
        "#**Practical Questions:**"
      ],
      "metadata": {
        "id": "cZ1C2IDS9mLR"
      }
    },
    {
      "cell_type": "markdown",
      "source": [
        "##**1. Create a 3x3 NumPy array with random integers between 1 and 100. Then, interchange its rows and columns.**\n"
      ],
      "metadata": {
        "id": "ZP-rfpYQ-aBY"
      }
    },
    {
      "cell_type": "code",
      "source": [
        "import numpy as np\n",
        "\n",
        "# Create a 3x3 NumPy array with random integers between 1 and 100\n",
        "arr = np.random.randint(1, 101, (3, 3))\n",
        "print(\"Original array:\")\n",
        "print(arr)\n",
        "\n",
        "# Interchange rows and columns using the transpose function\n",
        "arrTransposed = arr.transpose()\n",
        "print(\"\\nTransposed array:\")\n",
        "print(arrTransposed)"
      ],
      "metadata": {
        "colab": {
          "base_uri": "https://localhost:8080/"
        },
        "id": "3GID6GQ4-p2u",
        "outputId": "b010e1c7-417f-43ae-d344-af7ff8c943eb"
      },
      "execution_count": null,
      "outputs": [
        {
          "output_type": "stream",
          "name": "stdout",
          "text": [
            "Original array:\n",
            "[[18 56 97]\n",
            " [ 4  3 57]\n",
            " [10 30  3]]\n",
            "\n",
            "Transposed array:\n",
            "[[18  4 10]\n",
            " [56  3 30]\n",
            " [97 57  3]]\n"
          ]
        }
      ]
    },
    {
      "cell_type": "markdown",
      "source": [
        "##**2. Generate a 1D NumPy array with 10 elements. Reshape it into a 2x5 array, then into a 5x2 array**\n"
      ],
      "metadata": {
        "id": "rOsrIgL3AHZs"
      }
    },
    {
      "cell_type": "code",
      "source": [
        "import numpy as np\n",
        "\n",
        "# Generate a 1D NumPy array with 10 elements\n",
        "arr = np.arange(1, 11)\n",
        "print(\"Original 1D array:\")\n",
        "print(arr)\n",
        "\n",
        "# Reshape into a 2x5 array\n",
        "arr2x5 = arr.reshape(2, 5)\n",
        "print(\"\\nReshaped 2x5 array:\")\n",
        "print(arr2x5)\n",
        "\n",
        "# Reshape into a 5x2 array\n",
        "arr5x2 = arr.reshape(5, 2)\n",
        "print(\"\\nReshaped 5x2 array:\")\n",
        "print(arr5x2)"
      ],
      "metadata": {
        "colab": {
          "base_uri": "https://localhost:8080/"
        },
        "id": "ehFakeEnAqgy",
        "outputId": "1ba0185f-0b60-47ee-c5b3-b8e3ea55bbc9"
      },
      "execution_count": null,
      "outputs": [
        {
          "output_type": "stream",
          "name": "stdout",
          "text": [
            "Original 1D array:\n",
            "[ 1  2  3  4  5  6  7  8  9 10]\n",
            "\n",
            "Reshaped 2x5 array:\n",
            "[[ 1  2  3  4  5]\n",
            " [ 6  7  8  9 10]]\n",
            "\n",
            "Reshaped 5x2 array:\n",
            "[[ 1  2]\n",
            " [ 3  4]\n",
            " [ 5  6]\n",
            " [ 7  8]\n",
            " [ 9 10]]\n"
          ]
        }
      ]
    },
    {
      "cell_type": "markdown",
      "source": [
        "##**3. Create a 4x4 NumPy array with random float values. Add a border of zeros around it, resulting in a 6x6 array.**\n",
        "\n",
        "\n",
        "\n"
      ],
      "metadata": {
        "id": "502SM0uzBRuF"
      }
    },
    {
      "cell_type": "code",
      "source": [
        "import numpy as np\n",
        "\n",
        "arr = np.random.rand(4, 4)\n",
        "print(\"Original 4x4 array:\")\n",
        "print(arr)\n",
        "\n",
        "arrWithBorder = np.pad(arr, 1, mode='constant')\n",
        "print(\"\\n6x6 array with border of zeros:\")\n",
        "print(arrWithBorder)"
      ],
      "metadata": {
        "colab": {
          "base_uri": "https://localhost:8080/"
        },
        "id": "7uU2jCQyCIcu",
        "outputId": "d413c8c0-6f8e-46ea-d458-c77061321aee"
      },
      "execution_count": null,
      "outputs": [
        {
          "output_type": "stream",
          "name": "stdout",
          "text": [
            "Original 4x4 array:\n",
            "[[0.45029246 0.88217222 0.4616114  0.71279891]\n",
            " [0.64889438 0.24704252 0.64457593 0.51265691]\n",
            " [0.83730086 0.90364202 0.3903446  0.53521761]\n",
            " [0.10381638 0.96475781 0.4875199  0.60247158]]\n",
            "\n",
            "6x6 array with border of zeros:\n",
            "[[0.         0.         0.         0.         0.         0.        ]\n",
            " [0.         0.45029246 0.88217222 0.4616114  0.71279891 0.        ]\n",
            " [0.         0.64889438 0.24704252 0.64457593 0.51265691 0.        ]\n",
            " [0.         0.83730086 0.90364202 0.3903446  0.53521761 0.        ]\n",
            " [0.         0.10381638 0.96475781 0.4875199  0.60247158 0.        ]\n",
            " [0.         0.         0.         0.         0.         0.        ]]\n"
          ]
        }
      ]
    },
    {
      "cell_type": "markdown",
      "source": [
        "##**4. Using NumPy, create an array of integers from 10 to 60 with a step of 5.**\n",
        "\n"
      ],
      "metadata": {
        "id": "SN3S3S18AxnS"
      }
    },
    {
      "cell_type": "code",
      "source": [
        "import numpy as np\n",
        "array = np.arange(10,  61, 5)\n",
        "\n",
        "print(array)"
      ],
      "metadata": {
        "colab": {
          "base_uri": "https://localhost:8080/"
        },
        "id": "cWl-krzlBcWi",
        "outputId": "ad21272a-d2ab-4b58-dbd1-d9ff22edeafc"
      },
      "execution_count": null,
      "outputs": [
        {
          "output_type": "stream",
          "name": "stdout",
          "text": [
            "[10 15 20 25 30 35 40 45 50 55 60]\n"
          ]
        }
      ]
    },
    {
      "cell_type": "markdown",
      "source": [
        "##**5. Create a NumPy array of strings ['python', 'numpy', 'pandas']. Apply different case transformation(uppercase, lowercase, title case, etc.) to each element**\n",
        "\n",
        "\n",
        "\n"
      ],
      "metadata": {
        "id": "ctcsYs8gCOip"
      }
    },
    {
      "cell_type": "code",
      "source": [
        "import numpy as np\n",
        "\n",
        "array = np.array(['python', 'numpy', 'pandas'])\n",
        "\n",
        "# Uppercase\n",
        "uppercaseArray = np.char.upper(array)\n",
        "print(\"Uppercase:\", uppercaseArray)\n",
        "\n",
        "# Lowercase\n",
        "lowercaseArray = np.char.lower(array)\n",
        "print(\"Lowercase:\", lowercaseArray)\n",
        "\n",
        "# Title case\n",
        "titlecaseArray = np.char.title(array)\n",
        "print(\"Title case:\", titlecaseArray)\n",
        "\n",
        "# Swapcase\n",
        "swapcaseArray = np.char.swapcase(array)\n",
        "print(\"Swapcase:\", swapcaseArray)"
      ],
      "metadata": {
        "colab": {
          "base_uri": "https://localhost:8080/"
        },
        "id": "b-iG-qk9DBsb",
        "outputId": "5c519672-7f44-4940-d577-444858291707"
      },
      "execution_count": null,
      "outputs": [
        {
          "output_type": "stream",
          "name": "stdout",
          "text": [
            "Uppercase: ['PYTHON' 'NUMPY' 'PANDAS']\n",
            "Lowercase: ['python' 'numpy' 'pandas']\n",
            "Title case: ['Python' 'Numpy' 'Pandas']\n",
            "Swapcase: ['PYTHON' 'NUMPY' 'PANDAS']\n"
          ]
        }
      ]
    },
    {
      "cell_type": "markdown",
      "source": [
        "##**6. Generate a NumPy array of words. Insert a space between each character of every word in the array.**"
      ],
      "metadata": {
        "id": "Q1UO2cIqDp_y"
      }
    },
    {
      "cell_type": "code",
      "source": [
        "import numpy as np\n",
        "array = np.array(['python', 'numpy', 'pandas'])\n",
        "result = np.char.join(' ', array)\n",
        "\n",
        "print(result)"
      ],
      "metadata": {
        "colab": {
          "base_uri": "https://localhost:8080/"
        },
        "id": "WxX7oWnwEDkF",
        "outputId": "622ab99d-4106-4976-d0d0-ec80dd616efa"
      },
      "execution_count": null,
      "outputs": [
        {
          "output_type": "stream",
          "name": "stdout",
          "text": [
            "['p y t h o n' 'n u m p y' 'p a n d a s']\n"
          ]
        }
      ]
    },
    {
      "cell_type": "markdown",
      "source": [
        "##**7. Create two 2D NumPy arrays and perform element-wise addition, subtraction, multiplication, and division.**"
      ],
      "metadata": {
        "id": "ZxSb2fbfE7py"
      }
    },
    {
      "cell_type": "code",
      "source": [
        "import numpy as np\n",
        "# Create two 2D NumPy arrays\n",
        "array1 = np.array([[1, 2], [3, 4]])\n",
        "array2 = np.array([[5, 6], [7, 8]])\n",
        "\n",
        "# Element-wise addition\n",
        "additionResult = array1 + array2\n",
        "print(\"Element-wise addition:\")\n",
        "print(additionResult)\n",
        "\n",
        "# Element-wise subtraction\n",
        "subtractionResult = array1 - array2\n",
        "print(\"Element-wise subtraction:\")\n",
        "print(subtractionResult)\n",
        "\n",
        "# Element-wise multiplication\n",
        "multiplicationResult = array1 * array2\n",
        "print(\"Element-wise multiplication:\")\n",
        "print(multiplicationResult)\n",
        "\n",
        "# Element-wise division\n",
        "divisionResult = array1 / array2\n",
        "print(\"Element-wise division:\")\n",
        "print(divisionResult)"
      ],
      "metadata": {
        "colab": {
          "base_uri": "https://localhost:8080/"
        },
        "id": "S6-AHf1eFA9T",
        "outputId": "387dda12-4d65-4184-c296-fcd510ea9fa7"
      },
      "execution_count": null,
      "outputs": [
        {
          "output_type": "stream",
          "name": "stdout",
          "text": [
            "Element-wise addition:\n",
            "[[ 6  8]\n",
            " [10 12]]\n",
            "Element-wise subtraction:\n",
            "[[-4 -4]\n",
            " [-4 -4]]\n",
            "Element-wise multiplication:\n",
            "[[ 5 12]\n",
            " [21 32]]\n",
            "Element-wise division:\n",
            "[[0.2        0.33333333]\n",
            " [0.42857143 0.5       ]]\n"
          ]
        }
      ]
    },
    {
      "cell_type": "markdown",
      "source": [
        "##**8. Use NumPy to create a 5x5 identity matrix, then extract its diagonal elements.**\n"
      ],
      "metadata": {
        "id": "ftzRnQBrFu-V"
      }
    },
    {
      "cell_type": "code",
      "source": [
        "import numpy as np\n",
        "\n",
        "\n",
        "# Create a 5x5 identity matrix\n",
        "identityMatrix = np.eye(5)\n",
        "print(\"Identity matrix:\")\n",
        "print(identityMatrix)\n",
        "\n",
        "# Extract the diagonal elements\n",
        "diagonalElements = np.diag(identityMatrix)\n",
        "print(\"Diagonal elements:\", diagonalElements)"
      ],
      "metadata": {
        "colab": {
          "base_uri": "https://localhost:8080/"
        },
        "id": "VLR_eYjPF6rC",
        "outputId": "cda15931-9b6a-4093-d0c4-7d701a270894"
      },
      "execution_count": null,
      "outputs": [
        {
          "output_type": "stream",
          "name": "stdout",
          "text": [
            "Identity matrix:\n",
            "[[1. 0. 0. 0. 0.]\n",
            " [0. 1. 0. 0. 0.]\n",
            " [0. 0. 1. 0. 0.]\n",
            " [0. 0. 0. 1. 0.]\n",
            " [0. 0. 0. 0. 1.]]\n",
            "Diagonal elements: [1. 1. 1. 1. 1.]\n"
          ]
        }
      ]
    },
    {
      "cell_type": "markdown",
      "source": [
        "##**9. Generate a NumPy array of 100 random integers between 0 and 1000. Find and display all prime numbers in this array.**\n",
        "\n"
      ],
      "metadata": {
        "id": "s_Qk60D0I2ki"
      }
    },
    {
      "cell_type": "code",
      "source": [
        "import numpy as np\n",
        "\n",
        "array = np.random.randint(0, 1001, 100)\n",
        "\n",
        "\n",
        "def isPrime(n):\n",
        "    if n <= 1:\n",
        "        return False\n",
        "    if n == 2:\n",
        "        return True\n",
        "    if n % 2 == 0:\n",
        "        return False\n",
        "    maxdivisor = int(n**0.5) + 1\n",
        "    for d in range(3, maxdivisor, 2):\n",
        "        if n % d == 0:\n",
        "            return False\n",
        "    return True\n",
        "\n",
        "primenNumbers = array[np.vectorize(isPrime)(array)]\n",
        "print(\"Prime numbers:\", primenNumbers)"
      ],
      "metadata": {
        "colab": {
          "base_uri": "https://localhost:8080/"
        },
        "id": "aSgd6KwwJs9f",
        "outputId": "4fa186c5-f61c-4772-d469-3acfa604f703"
      },
      "execution_count": null,
      "outputs": [
        {
          "output_type": "stream",
          "name": "stdout",
          "text": [
            "Prime numbers: [383 733 743 823 983 263 887 439  17 587 563 269 359  19 337 431 241]\n"
          ]
        }
      ]
    },
    {
      "cell_type": "markdown",
      "source": [
        "##**10. Create a NumPy array representing daily temperatures for a month. Calculate and display the weekly averages.**\n"
      ],
      "metadata": {
        "id": "2i6r1ZkULZKe"
      }
    },
    {
      "cell_type": "code",
      "source": [
        "import numpy as np\n",
        "dailyTemperatures = np.random.uniform(20, 35, 30)\n",
        "weeks = np.split(dailyTemperatures, [7, 14, 21, 28])\n",
        "weeklyAverages = [np.mean(week) for week in weeks]\n",
        "\n",
        "for i, avg in enumerate(weeklyAverages):\n",
        "    print(f\"Week {i+1} average temperature: {avg:.2f}°C\")"
      ],
      "metadata": {
        "colab": {
          "base_uri": "https://localhost:8080/"
        },
        "id": "N9zuFYTGLsYN",
        "outputId": "9349084e-b2f7-4243-def2-96840ffcaba6"
      },
      "execution_count": null,
      "outputs": [
        {
          "output_type": "stream",
          "name": "stdout",
          "text": [
            "Week 1 average temperature: 25.82°C\n",
            "Week 2 average temperature: 28.34°C\n",
            "Week 3 average temperature: 28.57°C\n",
            "Week 4 average temperature: 28.97°C\n",
            "Week 5 average temperature: 20.65°C\n"
          ]
        }
      ]
    }
  ]
}